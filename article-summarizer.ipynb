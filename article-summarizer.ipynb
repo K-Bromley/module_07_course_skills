{
 "cells": [
  {
   "cell_type": "markdown",
   "metadata": {},
   "source": [
    "# Web Mining and Applied NLP (44-620)\n",
    "\n",
    "## Final Project: Article Summarizer\n",
    "\n",
    "### Student Name: Kelly Bromley\n",
    "[Project 7 - Applying Course Skills & Engage](https://github.com/K-Bromley/module_07_course_skills)\n",
    "\n",
    "\n",
    "Perform the tasks described in the Markdown cells below.  When you have completed the assignment make sure your code cells have all been run (and have output beneath them) and ensure you have committed and pushed ALL of your changes to your assignment repository.\n",
    "\n",
    "You should bring in code from previous assignments to help you answer the questions below.\n",
    "\n",
    "Every question that requires you to write code will have a code cell underneath it; you may either write your entire solution in that cell or write it in a python file (`.py`), then import and run the appropriate code to answer the question."
   ]
  },
  {
   "cell_type": "markdown",
   "metadata": {},
   "source": [
    "## Import Dependencies and Check"
   ]
  },
  {
   "cell_type": "code",
   "execution_count": 213,
   "metadata": {},
   "outputs": [
    {
     "name": "stdout",
     "output_type": "stream",
     "text": [
      "Package                   Version\n",
      "------------------------- --------------\n",
      "annotated-types           0.7.0\n",
      "anyio                     4.6.2.post1\n",
      "appnope                   0.1.4\n",
      "argon2-cffi               23.1.0\n",
      "argon2-cffi-bindings      21.2.0\n",
      "arrow                     1.3.0\n",
      "asttokens                 2.4.1\n",
      "async-lru                 2.0.4\n",
      "attrs                     24.2.0\n",
      "babel                     2.16.0\n",
      "beautifulsoup4            4.12.3\n",
      "bleach                    6.2.0\n",
      "blis                      1.0.1\n",
      "catalogue                 2.0.10\n",
      "certifi                   2024.8.30\n",
      "cffi                      1.17.1\n",
      "charset-normalizer        3.4.0\n",
      "click                     8.1.7\n",
      "cloudpathlib              0.20.0\n",
      "comm                      0.2.2\n",
      "confection                0.1.5\n",
      "contourpy                 1.3.1\n",
      "cycler                    0.12.1\n",
      "cymem                     2.0.10\n",
      "debugpy                   1.8.9\n",
      "decorator                 5.1.1\n",
      "defusedxml                0.7.1\n",
      "en_core_web_sm            3.8.0\n",
      "executing                 2.1.0\n",
      "fastjsonschema            2.21.0\n",
      "fonttools                 4.55.0\n",
      "fqdn                      1.5.1\n",
      "h11                       0.14.0\n",
      "html5lib                  1.1\n",
      "httpcore                  1.0.7\n",
      "httpx                     0.28.0\n",
      "idna                      3.10\n",
      "ipykernel                 6.29.5\n",
      "ipython                   8.30.0\n",
      "isoduration               20.11.0\n",
      "jedi                      0.19.2\n",
      "Jinja2                    3.1.4\n",
      "joblib                    1.4.2\n",
      "json5                     0.10.0\n",
      "jsonpointer               3.0.0\n",
      "jsonschema                4.23.0\n",
      "jsonschema-specifications 2024.10.1\n",
      "jupyter_client            8.6.3\n",
      "jupyter_core              5.7.2\n",
      "jupyter-events            0.10.0\n",
      "jupyter-lsp               2.2.5\n",
      "jupyter_server            2.14.2\n",
      "jupyter_server_terminals  0.5.3\n",
      "jupyterlab                4.3.1\n",
      "jupyterlab_pygments       0.3.0\n",
      "jupyterlab_server         2.27.3\n",
      "kiwisolver                1.4.7\n",
      "langcodes                 3.5.0\n",
      "language_data             1.3.0\n",
      "marisa-trie               1.2.1\n",
      "markdown-it-py            3.0.0\n",
      "MarkupSafe                3.0.2\n",
      "matplotlib                3.9.2\n",
      "matplotlib-inline         0.1.7\n",
      "mdurl                     0.1.2\n",
      "mistune                   3.0.2\n",
      "murmurhash                1.0.11\n",
      "nbclient                  0.10.1\n",
      "nbconvert                 7.16.4\n",
      "nbformat                  5.10.4\n",
      "nest-asyncio              1.6.0\n",
      "nltk                      3.9.1\n",
      "notebook_shim             0.2.4\n",
      "numpy                     2.0.2\n",
      "overrides                 7.7.0\n",
      "packaging                 24.2\n",
      "pandocfilters             1.5.1\n",
      "parso                     0.8.4\n",
      "pexpect                   4.9.0\n",
      "pillow                    11.0.0\n",
      "pip                       24.3.1\n",
      "platformdirs              4.3.6\n",
      "preshed                   3.0.9\n",
      "prometheus_client         0.21.0\n",
      "prompt_toolkit            3.0.48\n",
      "psutil                    6.1.0\n",
      "ptyprocess                0.7.0\n",
      "pure_eval                 0.2.3\n",
      "pycparser                 2.22\n",
      "pydantic                  2.10.2\n",
      "pydantic_core             2.27.1\n",
      "Pygments                  2.18.0\n",
      "pyparsing                 3.2.0\n",
      "python-dateutil           2.9.0.post0\n",
      "python-json-logger        2.0.7\n",
      "PyYAML                    6.0.2\n",
      "pyzmq                     26.2.0\n",
      "referencing               0.35.1\n",
      "regex                     2024.11.6\n",
      "requests                  2.32.3\n",
      "rfc3339-validator         0.1.4\n",
      "rfc3986-validator         0.1.1\n",
      "rich                      13.9.4\n",
      "rpds-py                   0.21.0\n",
      "Send2Trash                1.8.3\n",
      "setuptools                75.6.0\n",
      "shellingham               1.5.4\n",
      "six                       1.16.0\n",
      "smart-open                7.0.5\n",
      "sniffio                   1.3.1\n",
      "soupsieve                 2.6\n",
      "spacy                     3.8.2\n",
      "spacy-legacy              3.0.12\n",
      "spacy-loggers             1.0.5\n",
      "spacytextblob             5.0.0\n",
      "srsly                     2.4.8\n",
      "stack-data                0.6.3\n",
      "terminado                 0.18.1\n",
      "textblob                  0.18.0.post0\n",
      "thinc                     8.3.2\n",
      "tinycss2                  1.4.0\n",
      "tornado                   6.4.2\n",
      "tqdm                      4.67.1\n",
      "traitlets                 5.14.3\n",
      "typer                     0.14.0\n",
      "types-python-dateutil     2.9.0.20241003\n",
      "typing_extensions         4.12.2\n",
      "uri-template              1.3.0\n",
      "urllib3                   2.2.3\n",
      "wasabi                    1.1.3\n",
      "wcwidth                   0.2.13\n",
      "weasel                    0.4.1\n",
      "webcolors                 24.11.1\n",
      "webencodings              0.5.1\n",
      "websocket-client          1.8.0\n",
      "wrapt                     1.17.0\n",
      "All prereqs installed.\n"
     ]
    }
   ],
   "source": [
    "from collections import Counter\n",
    "import pickle\n",
    "import requests\n",
    "import spacy\n",
    "from bs4 import BeautifulSoup\n",
    "import matplotlib.pyplot as plt\n",
    "import numpy as np\n",
    "from spacytextblob.spacytextblob import SpacyTextBlob\n",
    "from textblob import TextBlob\n",
    "\n",
    "!pip list\n",
    "\n",
    "print('All prereqs installed.')"
   ]
  },
  {
   "cell_type": "markdown",
   "metadata": {},
   "source": [
    "## Task 1\n",
    "1. Find on the internet an article or blog post about a topic that interests you and you are able to get the text for using the technologies we have applied in the course.  Get the html for the article and store it in a file (which you must submit with your project)"
   ]
  },
  {
   "cell_type": "code",
   "execution_count": 214,
   "metadata": {},
   "outputs": [],
   "source": [
    "# Fetching data from URL\n",
    "response = requests.get(\"https://abcnews.go.com/US/toms-maine-toothpaste-made-bacteria-contaminated-water-fda/story?id=116024512\")\n",
    "contents = response.text\n",
    "\n",
    "# Write contents to .pkl file\n",
    "with open('abc_news_article.pkl', 'wb') as file:\n",
    "    pickle.dump(contents, file)"
   ]
  },
  {
   "cell_type": "markdown",
   "metadata": {},
   "source": [
    "## Task 2\n",
    "2. Read in your article's html source from the file you created in question 1 and do sentiment analysis on the article/post's text (use `.get_text()`).  Print the polarity score with an appropriate label.  Additionally print the number of sentences in the original article (with an appropriate label)"
   ]
  },
  {
   "cell_type": "code",
   "execution_count": 215,
   "metadata": {},
   "outputs": [
    {
     "name": "stdout",
     "output_type": "stream",
     "text": [
      "The overall Article polarity score is 0.21114267676767676\n",
      "The overall sentiment of the Article is positive.\n",
      "Number of Sentences in the Article: 25\n"
     ]
    }
   ],
   "source": [
    "# Import BeautifulSoup\n",
    "from bs4 import BeautifulSoup\n",
    "\n",
    "nlp = spacy.load(\"en_core_web_sm\")\n",
    "nlp.add_pipe(\"spacytextblob\")\n",
    "\n",
    "#Load pkl file and parse HTML contents via BeautifulSoup\n",
    "with open('abc_news_article.pkl', 'rb') as file:\n",
    "    contents = pickle.load(file)\n",
    "\n",
    "soup = BeautifulSoup(contents, 'html.parser')\n",
    "\n",
    "article_text = soup.get_text(separator=' ', strip=True)\n",
    "\n",
    "doc = nlp(article_text)\n",
    "polarity = doc._.blob.polarity\n",
    "\n",
    "print(\"The overall Article polarity score is\", polarity)\n",
    "\n",
    "if polarity > 0:\n",
    "    sentiment = \"positive\"\n",
    "elif polarity < 0:\n",
    "    sentiment = \"negative\"\n",
    "else:\n",
    "    sentiment = \"neutral\"\n",
    "\n",
    "print(f\"The overall sentiment of the Article is {sentiment}.\")\n",
    "\n",
    "# Print the number of sentences in the article\n",
    "num_sentences = len(list(doc.sents))\n",
    "print(f\"Number of Sentences in the Article: {num_sentences}\")"
   ]
  },
  {
   "cell_type": "markdown",
   "metadata": {},
   "source": [
    "## Task 3\n",
    "3. Load the article text into a trained `spaCy` pipeline, and determine the 5 most frequent tokens (converted to lower case).  Print the common tokens with an appropriate label.  Additionally, print the tokens their frequencies (with appropriate labels)"
   ]
  },
  {
   "cell_type": "code",
   "execution_count": 216,
   "metadata": {},
   "outputs": [
    {
     "name": "stdout",
     "output_type": "stream",
     "text": [
      "5 Common Tokens in the Article:\n",
      "The token water has a frequency of 10\n",
      "The token fda has a frequency of 9\n",
      "The token maine has a frequency of 8\n",
      "The token toothpaste has a frequency of 8\n",
      "The token tom has a frequency of 6\n"
     ]
    }
   ],
   "source": [
    "nlp = spacy.load(\"en_core_web_sm\")\n",
    "\n",
    "# Article text from file\n",
    "article = nlp(soup.get_text())\n",
    "\n",
    "# Filtering out punctuation, stopwords, and whitespace as requested\n",
    "tokens = [token.text.lower() for token in article if not token.is_punct and not token.is_stop and not token.is_space]\n",
    "\n",
    "# 5 Common Tokens\n",
    "token_freq = Counter(tokens).most_common(5)\n",
    "\n",
    "# Print 5 Common tokens and frequencies\n",
    "print(\"5 Common Tokens in the Article:\")\n",
    "for token, freq in token_freq:\n",
    "    print(f\"The token {token} has a frequency of {freq}\")"
   ]
  },
  {
   "cell_type": "markdown",
   "metadata": {},
   "source": [
    "## Task 4\n",
    "4. Load the article text into a trained `spaCy` pipeline, and determine the 5 most frequent lemmas (converted to lower case).  Print the common lemmas with an appropriate label.  Additionally, print the lemmas with their frequencies (with appropriate labels)."
   ]
  },
  {
   "cell_type": "code",
   "execution_count": 217,
   "metadata": {},
   "outputs": [
    {
     "name": "stdout",
     "output_type": "stream",
     "text": [
      "5 Most Common Lemmas in the Article:\n",
      "The lemma fda has a frequency of 11\n",
      "The lemma water has a frequency of 10\n",
      "The lemma tom has a frequency of 8\n",
      "The lemma maine has a frequency of 8\n",
      "The lemma toothpaste has a frequency of 8\n"
     ]
    }
   ],
   "source": [
    "# Get Lemmas and filter out punctuation, stopwords, and whitespace as requested.\n",
    "lemmas = [token.lemma_.lower() for token in doc if not token.is_punct and not token.is_stop and not token.is_space]\n",
    "\n",
    "# Get the 5 most common lemmas\n",
    "lemma_freq = Counter(lemmas).most_common(5)\n",
    "\n",
    "# Print Lemmas with their Frequencies\n",
    "print(\"5 Most Common Lemmas in the Article:\")\n",
    "for lemma, freq in lemma_freq:\n",
    "    print(f\"The lemma {lemma} has a frequency of {freq}\")"
   ]
  },
  {
   "cell_type": "markdown",
   "metadata": {},
   "source": [
    "## Task 5\n",
    "5. Make a list containing the scores (using tokens) of every sentence in the article, and plot a histogram with appropriate titles and axis labels of the scores. From your histogram, what seems to be the most common range of scores (put the answer in a comment after your code)?"
   ]
  },
  {
   "cell_type": "code",
   "execution_count": 218,
   "metadata": {},
   "outputs": [
    {
     "data": {
      "image/png": "[encoded data removed]",
      "text/plain": [
       "<Figure size 1000x500 with 1 Axes>"
      ]
     },
     "metadata": {},
     "output_type": "display_data"
    },
    {
     "name": "stdout",
     "output_type": "stream",
     "text": [
      "Min: 0.0\n",
      "Max: 0.5\n",
      "Number of Scores: 25\n"
     ]
    }
   ],
   "source": [
    "def score_sentence_by_token(sentence, interesting_tokens):\n",
    "    # Get Interesting Token Count\n",
    "    tokens = [token.text.lower() for token in nlp(sentence) if not token.is_punct and not token.is_stop and not token.is_space]\n",
    "    interesting_count = sum(1 for token in tokens if token in interesting_tokens)\n",
    "    score = interesting_count / len(tokens) if tokens else 0\n",
    "    return score\n",
    "\n",
    "interesting_tokens = [token for token, _ in token_freq]\n",
    "\n",
    "# Create List of Token Sentence Scores\n",
    "token_sentence_scores = [score_sentence_by_token(sentence.text, interesting_tokens) for sentence in doc.sents]\n",
    "\n",
    "# Histogram of Sentence scores\n",
    "plt.figure(figsize=(10, 5))\n",
    "plt.hist(token_sentence_scores, bins=15, color='navy')\n",
    "plt.title('Histogram of Sentence Scores via Token')\n",
    "plt.xlabel('Sentence Score')\n",
    "plt.ylabel('Frequency')\n",
    "plt.show()\n",
    "\n",
    "print(f\"Min: {min(token_sentence_scores)}\")\n",
    "print(f\"Max: {max(token_sentence_scores)}\")\n",
    "print(f\"Number of Scores: {len(token_sentence_scores)}\")"
   ]
  },
  {
   "cell_type": "markdown",
   "metadata": {},
   "source": [
    "## Task 6\n",
    "6. Make a list containing the scores (using lemmas) of every sentence in the article, and plot a histogram with appropriate titles and axis labels of the scores.  From your histogram, what seems to be the most common range of scores (put the answer in a comment after your code)?"
   ]
  },
  {
   "cell_type": "code",
   "execution_count": 219,
   "metadata": {},
   "outputs": [
    {
     "data": {
      "image/png": "[encoded data removed]",
      "text/plain": [
       "<Figure size 1200x500 with 1 Axes>"
      ]
     },
     "metadata": {},
     "output_type": "display_data"
    },
    {
     "name": "stdout",
     "output_type": "stream",
     "text": [
      "Min: 0.0\n",
      "Max: 0.5\n",
      "Number of Scores: 25\n"
     ]
    }
   ],
   "source": [
    "def score_sentence_by_lemma(sentence, interesting_lemmas):\n",
    "    # Get Interesting Lemma Count\n",
    "    lemmas = [token.lemma_.lower() for token in nlp(sentence) if not token.is_punct and not token.is_stop and not token.is_space]\n",
    "    interesting_count = sum(1 for lemma in lemmas if lemma in interesting_lemmas)\n",
    "    score = interesting_count / len(lemmas) if lemmas else 0\n",
    "    return score\n",
    "\n",
    "interesting_lemmas = [lemma for lemma, _ in lemma_freq]\n",
    "\n",
    "# Create List of Lemma Sentence Scores\n",
    "lemma_sentence_scores = [score_sentence_by_lemma(sentence.text, interesting_tokens) for sentence in doc.sents]\n",
    "\n",
    "# Histogram of Sentence scores\n",
    "plt.figure(figsize=(12, 5))\n",
    "plt.hist(lemma_sentence_scores, bins=15, color='purple')\n",
    "plt.title('Histogram of Sentence Scores via Lemma')\n",
    "plt.xlabel('Sentence Score')\n",
    "plt.ylabel('Frequency')\n",
    "plt.show()\n",
    "\n",
    "print(f\"Min: {min(lemma_sentence_scores)}\")\n",
    "print(f\"Max: {max(lemma_sentence_scores)}\")\n",
    "print(f\"Number of Scores: {len(lemma_sentence_scores)}\")"
   ]
  },
  {
   "cell_type": "markdown",
   "metadata": {},
   "source": [
    "## Task 7\n",
    "7. Using the histograms from questions 5 and 6, decide a \"cutoff\" score for tokens and lemmas such that fewer than half the sentences would have a score greater than the cutoff score.  Record the scores in this Markdown cell\n",
    "\n",
    "* Cutoff Score (tokens): .05\n",
    "* Cutoff Score (lemmas): .05\n",
    "\n",
    "Feel free to change these scores as you generate your summaries.  Ideally, we're shooting for at least 6 sentences for our summary, but don't want more than 10 (these numbers are rough estimates; they depend on the length of your article)."
   ]
  },
  {
   "cell_type": "markdown",
   "metadata": {},
   "source": [
    "## Task 8\n",
    "8. Create a summary of the article by going through every sentence in the article and adding it to an (initially) empty list if its score (based on tokens) is greater than the cutoff score you identified in question 8.  If your loop variable is named `sent`, you may find it easier to add `sent.text.strip()` to your list of sentences.  Print the summary (I would cleanly generate the summary text by `join`ing the strings in your list together with a space (`' '.join(sentence_list)`)."
   ]
  },
  {
   "cell_type": "code",
   "execution_count": 220,
   "metadata": {},
   "outputs": [
    {
     "name": "stdout",
     "output_type": "stream",
     "text": [
      "Summary of the Article (Token-Based):\n",
      "An inspection of a Tom's of Maine manufacturing facility found that the brand's toothpaste was produced with water containing bacteria, and a \"black mold-like substance\" was discovered at the location, according to the Food and Drug Administration. In a letter to the brand's parent company, Colgate-Palmolive, the FDA said a strain of bacteria called Pseudomonas aeruginosa -- which can cause blood and lung infections -- was found in water samples used to make Tom's Simply White Clean Mint Paste. It is essential that you employ a water system that is robustly designed, and that you effectively control, maintain, and monitor the system to ensure it consistently produces water suitable for pharmaceutical use,\" the FDA said in the Nov. 5 letter. MORE: Thousands of bottles of popular antidepressant recalled: 3 things to know A \"powder residue\" was also found near a batch of Tom's Silly Strawberry Anticavity toothpaste, which is marketed for \"kids and parents,\" according to the company. \"In addition, we have engaged water specialists to evaluate our systems at Sanford, have implemented additional safeguards to ensure compliance with FDA standards, and our water testing shows no issues,\" the company added. Kitchen and appliance deals Dec 2, 12:15 PM Joan Vassos, Chock Chapple share holiday photo Dec 2, 12:44 PM Police in Georgia move again to disperse protests over the suspension of EU talks Dec 2, 4:31 AM Man charged after tearing down pride flag Nov 19, 1:16 PM ABC News Live 24/7 coverage of breaking news and live events ABC News Network About Nielsen Measurement Children's Online Privacy Policy Contact Us Do Not Sell or Share My Personal Information Interest-Based Ads Privacy Policy Terms of Use\n"
     ]
    }
   ],
   "source": [
    "# Cutoff for Tokens\n",
    "cutoff_score_tokens = 0.05 \n",
    "\n",
    "doc = nlp(article_text)\n",
    "\n",
    "total_tokens = len([token for token in doc if not token.is_punct and not token.is_stop and not token.is_space])\n",
    "\n",
    "summary_sentences = []\n",
    "\n",
    "for sent in doc.sents:\n",
    "    token_count = len([token for token in sent if not token.is_punct and not token.is_stop and not token.is_space])\n",
    "    token_percentage = token_count / total_tokens\n",
    "    if token_percentage > cutoff_score_tokens:\n",
    "        summary_sentences.append(sent.text.strip())\n",
    "\n",
    "summary_tokens = ' '.join(summary_sentences)\n",
    "\n",
    "# Print Summary\n",
    "print(\"Summary of the Article (Token-Based):\")\n",
    "print(summary_tokens)\n",
    "\n"
   ]
  },
  {
   "cell_type": "markdown",
   "metadata": {},
   "source": [
    "## Task 9\n",
    "9. Print the polarity score of your summary you generated with the token scores (with an appropriate label). Additionally, print the number of sentences in the summarized article."
   ]
  },
  {
   "cell_type": "code",
   "execution_count": 221,
   "metadata": {},
   "outputs": [
    {
     "name": "stdout",
     "output_type": "stream",
     "text": [
      "Token Based Article Summary\n",
      "Polarity Score: 0.18232323232323233\n",
      "Overall Sentiment: positive\n",
      "Number of Sentences in Summary: 9\n"
     ]
    }
   ],
   "source": [
    "doc = nlp(summary_tokens)\n",
    "nlp = spacy.load('en_core_web_sm')\n",
    "blob = TextBlob(doc.text)\n",
    "\n",
    "if polarity > 0:\n",
    "    sentiment = \"positive\"\n",
    "elif polarity < 0:\n",
    "    sentiment = \"negative\"\n",
    "else:\n",
    "    sentiment = \"neutral\"\n",
    "\n",
    "# sentiment analysis\n",
    "polarity = blob.sentiment.polarity\n",
    "print(\"Token Based Article Summary\")\n",
    "print(\"Polarity Score:\", polarity)\n",
    "print(\"Overall Sentiment:\", sentiment)\n",
    "\n",
    "# Summary Sentence Count\n",
    "sentence_count = len(list(doc.sents))\n",
    "print(f\"Number of Sentences in Summary:\", sentence_count)"
   ]
  },
  {
   "cell_type": "markdown",
   "metadata": {},
   "source": [
    "## Task 10\n",
    "10. Create a summary of the article by going through every sentence in the article and adding it to an (initially) empty list if its score (based on lemmas) is greater than the cutoff score you identified in question 8.  If your loop variable is named `sent`, you may find it easier to add `sent.text.strip()` to your list of sentences.  Print the summary (I would cleanly generate the summary text by `join`ing the strings in your list together with a space (`' '.join(sentence_list)`)."
   ]
  },
  {
   "cell_type": "code",
   "execution_count": 222,
   "metadata": {},
   "outputs": [
    {
     "name": "stdout",
     "output_type": "stream",
     "text": [
      "Lemma-Based Summary of the Article:\n",
      "An inspection of a Tom's of Maine manufacturing facility found that the brand's toothpaste was produced with water containing bacteria, and a \"black mold-like substance\" was discovered at the location, according to the Food and Drug Administration. In a letter to the brand's parent company, Colgate-Palmolive, the FDA said a strain of bacteria called Pseudomonas aeruginosa -- which can cause blood and lung infections -- was found in water samples used to make Tom's Simply White Clean Mint Paste. It is essential that you employ a water system that is robustly designed, and that you effectively control, maintain, and monitor the system to ensure it consistently produces water suitable for pharmaceutical use,\" the FDA said in the Nov. 5 letter. MORE: Thousands of bottles of popular antidepressant recalled: 3 things to know A \"powder residue\" was also found near a batch of Tom's Silly Strawberry Anticavity toothpaste, which is marketed for \"kids and parents,\" according to the company. \"In addition, we have engaged water specialists to evaluate our systems at Sanford, have implemented additional safeguards to ensure compliance with FDA standards, and our water testing shows no issues,\" the company added. Kitchen and appliance deals Dec 2, 12:15 PM Joan Vassos, Chock Chapple share holiday photo Dec 2, 12:44 PM Police in Georgia move again to disperse protests over the suspension of EU talks Dec 2, 4:31 AM Man charged after tearing down pride flag Nov 19, 1:16 PM ABC News Live 24/7 coverage of breaking news and live events ABC News Network About Nielsen Measurement Children's Online Privacy Policy Contact Us Do Not Sell or Share My Personal Information Interest-Based Ads Privacy Policy Terms of Use\n"
     ]
    }
   ],
   "source": [
    "cutoff_score_lemmas = 0.05\n",
    "doc = nlp(article_text)\n",
    "total_lemmas = len([token.lemma_ for token in doc if not token.is_punct and not token.is_stop and not token.is_space])\n",
    "sentence_list_lemmas = []\n",
    "\n",
    "for sent in doc.sents:\n",
    "    lemma_count = len([token.lemma_ for token in sent if not token.is_punct and not token.is_stop and not token.is_space])\n",
    "    lemma_percentage = lemma_count / total_lemmas\n",
    "    if lemma_percentage > cutoff_score_lemmas:\n",
    "        sentence_list_lemmas.append(sent.text.strip())\n",
    "\n",
    "\n",
    "summary_lemmas = ' '.join(sentence_list_lemmas)\n",
    "\n",
    "# Print the lemma-based summary\n",
    "print(\"Lemma-Based Summary of the Article:\")\n",
    "print(summary_lemmas)"
   ]
  },
  {
   "cell_type": "markdown",
   "metadata": {},
   "source": [
    "## Task 11\n",
    "11. Print the polarity score of your summary you generated with the lemma scores (with an appropriate label). Additionally, print the number of sentences in the summarized article."
   ]
  },
  {
   "cell_type": "code",
   "execution_count": 223,
   "metadata": {},
   "outputs": [
    {
     "name": "stdout",
     "output_type": "stream",
     "text": [
      "Token Based Article Summary\n",
      "Polarity Score: 0.18232323232323233\n",
      "Overall Sentiment: positive\n",
      "Number of Sentences in Summary: 9\n"
     ]
    }
   ],
   "source": [
    "doc = nlp(summary_lemmas)\n",
    "nlp = spacy.load('en_core_web_sm')\n",
    "blob = TextBlob(doc.text)\n",
    "\n",
    "if polarity > 0:\n",
    "    sentiment = \"positive\"\n",
    "elif polarity < 0:\n",
    "    sentiment = \"negative\"\n",
    "else:\n",
    "    sentiment = \"neutral\"\n",
    "\n",
    "# sentiment analysis\n",
    "polarity = blob.sentiment.polarity\n",
    "print(\"Token Based Article Summary\")\n",
    "print(\"Polarity Score:\", polarity)\n",
    "print(\"Overall Sentiment:\", sentiment)\n",
    "\n",
    "# Summary Sentence Count\n",
    "sentence_count = len(list(doc.sents))\n",
    "print(f\"Number of Sentences in Summary:\", sentence_count)"
   ]
  },
  {
   "cell_type": "markdown",
   "metadata": {},
   "source": [
    "## Task 12 \n",
    "12.  Compare your polarity scores of your summaries to the polarity scores of the initial article.  Is there a difference?  Why do you think that may or may not be?.  Answer in this Markdown cell.\n",
    "\n",
    "12. Answer: There is a slight difference in the polarity scores between the summary and the whole article. The entire article seems to be slightly more positive than just the summary is. This could be there are more positive words in the remainder of the article sentences which increases its overall polarity. I think overall it seems to be fairly accurate in terms of how the article is written and the summary sentences selected."
   ]
  },
  {
   "cell_type": "markdown",
   "metadata": {},
   "source": [
    "## Task 13\n",
    "13. Based on your reading of the original article, which summary do you think is better (if there's a difference).  Why do you think this might be?\n",
    "\n",
    "13. Answer: There was not any difference for me in the summaries, I believe this could be due to short nature of the article as it is only 23 sentences long. Perhaps in the future it might be good to analyze a longer article or a scientific journal article to determine sentiments and gather a summary. "
   ]
  },
  {
   "cell_type": "markdown",
   "metadata": {},
   "source": [
    "## Convert to HTML"
   ]
  },
  {
   "cell_type": "code",
   "execution_count": 224,
   "metadata": {},
   "outputs": [
    {
     "name": "stdout",
     "output_type": "stream",
     "text": [
      "[NbConvertApp] Converting notebook article-summarizer.ipynb to html\n",
      "[NbConvertApp] WARNING | Alternative text is missing on 2 image(s).\n",
      "[NbConvertApp] Writing 381440 bytes to article-summarizer.html\n"
     ]
    }
   ],
   "source": [
    "!jupyter nbconvert --to html article-summarizer.ipynb"
   ]
  }
 ],
 "metadata": {
  "kernelspec": {
   "display_name": "Python 3",
   "language": "python",
   "name": "python3"
  },
  "language_info": {
   "codemirror_mode": {
    "name": "ipython",
    "version": 3
   },
   "file_extension": ".py",
   "mimetype": "text/x-python",
   "name": "python",
   "nbconvert_exporter": "python",
   "pygments_lexer": "ipython3",
   "version": "3.12.3"
  }
 },
 "nbformat": 4,
 "nbformat_minor": 4
}
